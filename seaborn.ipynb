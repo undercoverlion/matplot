{
 "cells": [
  {
   "cell_type": "code",
   "execution_count": null,
   "metadata": {},
   "outputs": [],
   "source": [
    "import seaborn as sns\n",
    "import matplotlib.pyplot as plt\n",
    "import numpy as np\n",
    "import pandas as pd\n",
    "\n",
    "# Load an example dataset\n",
    "iris = sns.load_dataset(\"iris\")\n",
    "\n",
    "# Data for the plots\n",
    "x = np.linspace(0, 10, 100)\n",
    "y1 = np.sin(x)\n",
    "y2 = np.cos(x)\n",
    "data = pd.DataFrame({'x': x, 'sin(x)': y1, 'cos(x)': y2})\n",
    "\n",
    "# Create a figure and a 2x2 grid\n",
    "fig, axes = plt.subplots(2, 2, figsize=(12, 8))\n",
    "\n",
    "# Line plot\n",
    "sns.lineplot(data=data, ax=axes[0, 0])\n",
    "axes[0, 0].set_title(\"Line Plot\")\n",
    "\n",
    "# Scatter plot\n",
    "sns.scatterplot(data=iris, x=\"sepal_length\", y=\"sepal_width\",\n",
    "                 hue=\"species\", style=\"species\", ax=axes[0, 1])\n",
    "axes[0, 1].set_title(\"Scatter Plot\")\n",
    "\n",
    "# Bar plot\n",
    "titanic = sns.load_dataset(\"titanic\")\n",
    "print(titanic.columns)\n",
    "sns.barplot(data=titanic, x=\"class\", y=\"fare\", hue=\"survived\", ax=axes[1, 0])\n",
    "axes[1, 0].set_title(\"Bar Plot\")\n",
    "\n",
    "# Histogram (distplot in Seaborn is deprecated, so use histplot instead)\n",
    "sns.histplot(data=iris, x=\"petal_length\", kde=True, color='purple', ax=axes[1, 1])\n",
    "axes[1, 1].set_title(\"Histogram\")\n",
    "\n",
    "# Adjusting the layout and displaying the plots\n",
    "plt.tight_layout()\n",
    "plt.show()"
   ]
  }
 ],
 "metadata": {
  "language_info": {
   "name": "python"
  },
  "orig_nbformat": 4
 },
 "nbformat": 4,
 "nbformat_minor": 2
}
